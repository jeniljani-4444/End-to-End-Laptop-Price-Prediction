{
 "cells": [
  {
   "cell_type": "code",
   "execution_count": 1,
   "id": "47cccd09",
   "metadata": {},
   "outputs": [],
   "source": [
    "import pandas as pd\n",
    "import numpy as np\n",
    "import matplotlib.pyplot as plt\n",
    "import seaborn as sns"
   ]
  },
  {
   "cell_type": "code",
   "execution_count": 2,
   "id": "a0d15bb4",
   "metadata": {},
   "outputs": [],
   "source": [
    "df = pd.read_csv(\"laptop_data.csv\")"
   ]
  },
  {
   "cell_type": "code",
   "execution_count": 3,
   "id": "4d44a127",
   "metadata": {},
   "outputs": [
    {
     "data": {
      "text/plain": [
       "(984, 9)"
      ]
     },
     "execution_count": 3,
     "metadata": {},
     "output_type": "execute_result"
    }
   ],
   "source": [
    "df.shape"
   ]
  },
  {
   "cell_type": "code",
   "execution_count": 4,
   "id": "bc9cab74",
   "metadata": {},
   "outputs": [
    {
     "data": {
      "text/html": [
       "<div>\n",
       "<style scoped>\n",
       "    .dataframe tbody tr th:only-of-type {\n",
       "        vertical-align: middle;\n",
       "    }\n",
       "\n",
       "    .dataframe tbody tr th {\n",
       "        vertical-align: top;\n",
       "    }\n",
       "\n",
       "    .dataframe thead th {\n",
       "        text-align: right;\n",
       "    }\n",
       "</style>\n",
       "<table border=\"1\" class=\"dataframe\">\n",
       "  <thead>\n",
       "    <tr style=\"text-align: right;\">\n",
       "      <th></th>\n",
       "      <th>Name</th>\n",
       "      <th>Price</th>\n",
       "      <th>Rating</th>\n",
       "      <th>Processor</th>\n",
       "      <th>RAM</th>\n",
       "      <th>OS</th>\n",
       "      <th>Display</th>\n",
       "      <th>Storage</th>\n",
       "      <th>Warranty</th>\n",
       "    </tr>\n",
       "  </thead>\n",
       "  <tbody>\n",
       "    <tr>\n",
       "      <th>0</th>\n",
       "      <td>HP Intel Core i5 11th Gen - (8 GB/512 GB SSD/W...</td>\n",
       "      <td>₹49,990</td>\n",
       "      <td>4.3</td>\n",
       "      <td>Intel Core i5 Processor (11th Gen)</td>\n",
       "      <td>8 GB DDR4 RAM</td>\n",
       "      <td>64 bit Windows 11 Operating System</td>\n",
       "      <td>39.62 cm (15.6 Inch) Display</td>\n",
       "      <td>512 GB SSD</td>\n",
       "      <td>1 Year Onsite Warranty</td>\n",
       "    </tr>\n",
       "    <tr>\n",
       "      <th>1</th>\n",
       "      <td>HP (2023) Intel 12th Gen N305 Core i3 - (8 GB/...</td>\n",
       "      <td>₹41,990</td>\n",
       "      <td>NaN</td>\n",
       "      <td>Intel Core i3 Processor</td>\n",
       "      <td>8 GB DDR4 RAM</td>\n",
       "      <td>64 bit Windows 11 Operating System</td>\n",
       "      <td>35.56 cm (14 Inch) Display</td>\n",
       "      <td>512 GB SSD</td>\n",
       "      <td>1 Year Onsite Warranty</td>\n",
       "    </tr>\n",
       "    <tr>\n",
       "      <th>2</th>\n",
       "      <td>HP 15s (2023) Athlon Dual Core 3050U - (8 GB/5...</td>\n",
       "      <td>₹31,990</td>\n",
       "      <td>4.0</td>\n",
       "      <td>AMD Athlon Dual Core Processor</td>\n",
       "      <td>8 GB DDR4 RAM</td>\n",
       "      <td>Windows 11 Operating System</td>\n",
       "      <td>39.62 cm (15.6 Inch) Display</td>\n",
       "      <td>512 GB SSD</td>\n",
       "      <td>1 Year Onsite Warranty</td>\n",
       "    </tr>\n",
       "    <tr>\n",
       "      <th>3</th>\n",
       "      <td>APPLE 2020 Macbook Air M1 - (8 GB/256 GB SSD/M...</td>\n",
       "      <td>₹75,990</td>\n",
       "      <td>4.7</td>\n",
       "      <td>Apple M1 Processor</td>\n",
       "      <td>8 GB DDR4 RAM</td>\n",
       "      <td>Mac OS Operating System</td>\n",
       "      <td>33.78 cm (13.3 inch) Display</td>\n",
       "      <td>256 GB SSD</td>\n",
       "      <td>NaN</td>\n",
       "    </tr>\n",
       "    <tr>\n",
       "      <th>4</th>\n",
       "      <td>ASUS Vivobook 15 Core i5 11th Gen - (8 GB/512 ...</td>\n",
       "      <td>₹40,990</td>\n",
       "      <td>4.3</td>\n",
       "      <td>Intel Core i5 Processor (11th Gen)</td>\n",
       "      <td>8 GB DDR4 RAM</td>\n",
       "      <td>64 bit Windows 11 Operating System</td>\n",
       "      <td>39.62 cm (15.6 Inch) Display</td>\n",
       "      <td>512 GB SSD</td>\n",
       "      <td>1 Year Onsite Warranty</td>\n",
       "    </tr>\n",
       "  </tbody>\n",
       "</table>\n",
       "</div>"
      ],
      "text/plain": [
       "                                                Name    Price  Rating  \\\n",
       "0  HP Intel Core i5 11th Gen - (8 GB/512 GB SSD/W...  ₹49,990     4.3   \n",
       "1  HP (2023) Intel 12th Gen N305 Core i3 - (8 GB/...  ₹41,990     NaN   \n",
       "2  HP 15s (2023) Athlon Dual Core 3050U - (8 GB/5...  ₹31,990     4.0   \n",
       "3  APPLE 2020 Macbook Air M1 - (8 GB/256 GB SSD/M...  ₹75,990     4.7   \n",
       "4  ASUS Vivobook 15 Core i5 11th Gen - (8 GB/512 ...  ₹40,990     4.3   \n",
       "\n",
       "                            Processor            RAM  \\\n",
       "0  Intel Core i5 Processor (11th Gen)  8 GB DDR4 RAM   \n",
       "1             Intel Core i3 Processor  8 GB DDR4 RAM   \n",
       "2      AMD Athlon Dual Core Processor  8 GB DDR4 RAM   \n",
       "3                  Apple M1 Processor  8 GB DDR4 RAM   \n",
       "4  Intel Core i5 Processor (11th Gen)  8 GB DDR4 RAM   \n",
       "\n",
       "                                   OS                       Display  \\\n",
       "0  64 bit Windows 11 Operating System  39.62 cm (15.6 Inch) Display   \n",
       "1  64 bit Windows 11 Operating System    35.56 cm (14 Inch) Display   \n",
       "2         Windows 11 Operating System  39.62 cm (15.6 Inch) Display   \n",
       "3             Mac OS Operating System  33.78 cm (13.3 inch) Display   \n",
       "4  64 bit Windows 11 Operating System  39.62 cm (15.6 Inch) Display   \n",
       "\n",
       "      Storage                Warranty  \n",
       "0  512 GB SSD  1 Year Onsite Warranty  \n",
       "1  512 GB SSD  1 Year Onsite Warranty  \n",
       "2  512 GB SSD  1 Year Onsite Warranty  \n",
       "3  256 GB SSD                     NaN  \n",
       "4  512 GB SSD  1 Year Onsite Warranty  "
      ]
     },
     "execution_count": 4,
     "metadata": {},
     "output_type": "execute_result"
    }
   ],
   "source": [
    "df.head()"
   ]
  },
  {
   "cell_type": "code",
   "execution_count": 5,
   "id": "f7e5084e",
   "metadata": {},
   "outputs": [],
   "source": [
    "# Changing Column names\n",
    "df.columns = df.columns.str.lower()"
   ]
  },
  {
   "cell_type": "code",
   "execution_count": 6,
   "id": "c592593e",
   "metadata": {},
   "outputs": [
    {
     "data": {
      "text/html": [
       "<div>\n",
       "<style scoped>\n",
       "    .dataframe tbody tr th:only-of-type {\n",
       "        vertical-align: middle;\n",
       "    }\n",
       "\n",
       "    .dataframe tbody tr th {\n",
       "        vertical-align: top;\n",
       "    }\n",
       "\n",
       "    .dataframe thead th {\n",
       "        text-align: right;\n",
       "    }\n",
       "</style>\n",
       "<table border=\"1\" class=\"dataframe\">\n",
       "  <thead>\n",
       "    <tr style=\"text-align: right;\">\n",
       "      <th></th>\n",
       "      <th>name</th>\n",
       "      <th>price</th>\n",
       "      <th>rating</th>\n",
       "      <th>processor</th>\n",
       "      <th>ram</th>\n",
       "      <th>os</th>\n",
       "      <th>display</th>\n",
       "      <th>storage</th>\n",
       "      <th>warranty</th>\n",
       "    </tr>\n",
       "  </thead>\n",
       "  <tbody>\n",
       "    <tr>\n",
       "      <th>0</th>\n",
       "      <td>HP Intel Core i5 11th Gen - (8 GB/512 GB SSD/W...</td>\n",
       "      <td>₹49,990</td>\n",
       "      <td>4.3</td>\n",
       "      <td>Intel Core i5 Processor (11th Gen)</td>\n",
       "      <td>8 GB DDR4 RAM</td>\n",
       "      <td>64 bit Windows 11 Operating System</td>\n",
       "      <td>39.62 cm (15.6 Inch) Display</td>\n",
       "      <td>512 GB SSD</td>\n",
       "      <td>1 Year Onsite Warranty</td>\n",
       "    </tr>\n",
       "    <tr>\n",
       "      <th>1</th>\n",
       "      <td>HP (2023) Intel 12th Gen N305 Core i3 - (8 GB/...</td>\n",
       "      <td>₹41,990</td>\n",
       "      <td>NaN</td>\n",
       "      <td>Intel Core i3 Processor</td>\n",
       "      <td>8 GB DDR4 RAM</td>\n",
       "      <td>64 bit Windows 11 Operating System</td>\n",
       "      <td>35.56 cm (14 Inch) Display</td>\n",
       "      <td>512 GB SSD</td>\n",
       "      <td>1 Year Onsite Warranty</td>\n",
       "    </tr>\n",
       "    <tr>\n",
       "      <th>2</th>\n",
       "      <td>HP 15s (2023) Athlon Dual Core 3050U - (8 GB/5...</td>\n",
       "      <td>₹31,990</td>\n",
       "      <td>4.0</td>\n",
       "      <td>AMD Athlon Dual Core Processor</td>\n",
       "      <td>8 GB DDR4 RAM</td>\n",
       "      <td>Windows 11 Operating System</td>\n",
       "      <td>39.62 cm (15.6 Inch) Display</td>\n",
       "      <td>512 GB SSD</td>\n",
       "      <td>1 Year Onsite Warranty</td>\n",
       "    </tr>\n",
       "    <tr>\n",
       "      <th>3</th>\n",
       "      <td>APPLE 2020 Macbook Air M1 - (8 GB/256 GB SSD/M...</td>\n",
       "      <td>₹75,990</td>\n",
       "      <td>4.7</td>\n",
       "      <td>Apple M1 Processor</td>\n",
       "      <td>8 GB DDR4 RAM</td>\n",
       "      <td>Mac OS Operating System</td>\n",
       "      <td>33.78 cm (13.3 inch) Display</td>\n",
       "      <td>256 GB SSD</td>\n",
       "      <td>NaN</td>\n",
       "    </tr>\n",
       "    <tr>\n",
       "      <th>4</th>\n",
       "      <td>ASUS Vivobook 15 Core i5 11th Gen - (8 GB/512 ...</td>\n",
       "      <td>₹40,990</td>\n",
       "      <td>4.3</td>\n",
       "      <td>Intel Core i5 Processor (11th Gen)</td>\n",
       "      <td>8 GB DDR4 RAM</td>\n",
       "      <td>64 bit Windows 11 Operating System</td>\n",
       "      <td>39.62 cm (15.6 Inch) Display</td>\n",
       "      <td>512 GB SSD</td>\n",
       "      <td>1 Year Onsite Warranty</td>\n",
       "    </tr>\n",
       "  </tbody>\n",
       "</table>\n",
       "</div>"
      ],
      "text/plain": [
       "                                                name    price  rating  \\\n",
       "0  HP Intel Core i5 11th Gen - (8 GB/512 GB SSD/W...  ₹49,990     4.3   \n",
       "1  HP (2023) Intel 12th Gen N305 Core i3 - (8 GB/...  ₹41,990     NaN   \n",
       "2  HP 15s (2023) Athlon Dual Core 3050U - (8 GB/5...  ₹31,990     4.0   \n",
       "3  APPLE 2020 Macbook Air M1 - (8 GB/256 GB SSD/M...  ₹75,990     4.7   \n",
       "4  ASUS Vivobook 15 Core i5 11th Gen - (8 GB/512 ...  ₹40,990     4.3   \n",
       "\n",
       "                            processor            ram  \\\n",
       "0  Intel Core i5 Processor (11th Gen)  8 GB DDR4 RAM   \n",
       "1             Intel Core i3 Processor  8 GB DDR4 RAM   \n",
       "2      AMD Athlon Dual Core Processor  8 GB DDR4 RAM   \n",
       "3                  Apple M1 Processor  8 GB DDR4 RAM   \n",
       "4  Intel Core i5 Processor (11th Gen)  8 GB DDR4 RAM   \n",
       "\n",
       "                                   os                       display  \\\n",
       "0  64 bit Windows 11 Operating System  39.62 cm (15.6 Inch) Display   \n",
       "1  64 bit Windows 11 Operating System    35.56 cm (14 Inch) Display   \n",
       "2         Windows 11 Operating System  39.62 cm (15.6 Inch) Display   \n",
       "3             Mac OS Operating System  33.78 cm (13.3 inch) Display   \n",
       "4  64 bit Windows 11 Operating System  39.62 cm (15.6 Inch) Display   \n",
       "\n",
       "      storage                warranty  \n",
       "0  512 GB SSD  1 Year Onsite Warranty  \n",
       "1  512 GB SSD  1 Year Onsite Warranty  \n",
       "2  512 GB SSD  1 Year Onsite Warranty  \n",
       "3  256 GB SSD                     NaN  \n",
       "4  512 GB SSD  1 Year Onsite Warranty  "
      ]
     },
     "execution_count": 6,
     "metadata": {},
     "output_type": "execute_result"
    }
   ],
   "source": [
    "df.head()"
   ]
  },
  {
   "cell_type": "code",
   "execution_count": 7,
   "id": "bcd2236f",
   "metadata": {},
   "outputs": [],
   "source": [
    "# Cleaning Price Column\n",
    "df[\"price\"] = df[\"price\"].str.replace(\"₹\",\"\").str.replace(',','').str.strip().astype('int')"
   ]
  },
  {
   "cell_type": "code",
   "execution_count": 8,
   "id": "e5230e4c",
   "metadata": {},
   "outputs": [
    {
     "data": {
      "text/html": [
       "<div>\n",
       "<style scoped>\n",
       "    .dataframe tbody tr th:only-of-type {\n",
       "        vertical-align: middle;\n",
       "    }\n",
       "\n",
       "    .dataframe tbody tr th {\n",
       "        vertical-align: top;\n",
       "    }\n",
       "\n",
       "    .dataframe thead th {\n",
       "        text-align: right;\n",
       "    }\n",
       "</style>\n",
       "<table border=\"1\" class=\"dataframe\">\n",
       "  <thead>\n",
       "    <tr style=\"text-align: right;\">\n",
       "      <th></th>\n",
       "      <th>name</th>\n",
       "      <th>price</th>\n",
       "      <th>rating</th>\n",
       "      <th>processor</th>\n",
       "      <th>ram</th>\n",
       "      <th>os</th>\n",
       "      <th>display</th>\n",
       "      <th>storage</th>\n",
       "      <th>warranty</th>\n",
       "    </tr>\n",
       "  </thead>\n",
       "  <tbody>\n",
       "    <tr>\n",
       "      <th>0</th>\n",
       "      <td>HP Intel Core i5 11th Gen - (8 GB/512 GB SSD/W...</td>\n",
       "      <td>49990</td>\n",
       "      <td>4.3</td>\n",
       "      <td>Intel Core i5 Processor (11th Gen)</td>\n",
       "      <td>8 GB DDR4 RAM</td>\n",
       "      <td>64 bit Windows 11 Operating System</td>\n",
       "      <td>39.62 cm (15.6 Inch) Display</td>\n",
       "      <td>512 GB SSD</td>\n",
       "      <td>1 Year Onsite Warranty</td>\n",
       "    </tr>\n",
       "    <tr>\n",
       "      <th>1</th>\n",
       "      <td>HP (2023) Intel 12th Gen N305 Core i3 - (8 GB/...</td>\n",
       "      <td>41990</td>\n",
       "      <td>NaN</td>\n",
       "      <td>Intel Core i3 Processor</td>\n",
       "      <td>8 GB DDR4 RAM</td>\n",
       "      <td>64 bit Windows 11 Operating System</td>\n",
       "      <td>35.56 cm (14 Inch) Display</td>\n",
       "      <td>512 GB SSD</td>\n",
       "      <td>1 Year Onsite Warranty</td>\n",
       "    </tr>\n",
       "  </tbody>\n",
       "</table>\n",
       "</div>"
      ],
      "text/plain": [
       "                                                name  price  rating  \\\n",
       "0  HP Intel Core i5 11th Gen - (8 GB/512 GB SSD/W...  49990     4.3   \n",
       "1  HP (2023) Intel 12th Gen N305 Core i3 - (8 GB/...  41990     NaN   \n",
       "\n",
       "                            processor            ram  \\\n",
       "0  Intel Core i5 Processor (11th Gen)  8 GB DDR4 RAM   \n",
       "1             Intel Core i3 Processor  8 GB DDR4 RAM   \n",
       "\n",
       "                                   os                       display  \\\n",
       "0  64 bit Windows 11 Operating System  39.62 cm (15.6 Inch) Display   \n",
       "1  64 bit Windows 11 Operating System    35.56 cm (14 Inch) Display   \n",
       "\n",
       "      storage                warranty  \n",
       "0  512 GB SSD  1 Year Onsite Warranty  \n",
       "1  512 GB SSD  1 Year Onsite Warranty  "
      ]
     },
     "execution_count": 8,
     "metadata": {},
     "output_type": "execute_result"
    }
   ],
   "source": [
    "df.head(2)"
   ]
  },
  {
   "cell_type": "code",
   "execution_count": 9,
   "id": "02dab8d6",
   "metadata": {},
   "outputs": [
    {
     "data": {
      "text/html": [
       "<div>\n",
       "<style scoped>\n",
       "    .dataframe tbody tr th:only-of-type {\n",
       "        vertical-align: middle;\n",
       "    }\n",
       "\n",
       "    .dataframe tbody tr th {\n",
       "        vertical-align: top;\n",
       "    }\n",
       "\n",
       "    .dataframe thead th {\n",
       "        text-align: right;\n",
       "    }\n",
       "</style>\n",
       "<table border=\"1\" class=\"dataframe\">\n",
       "  <thead>\n",
       "    <tr style=\"text-align: right;\">\n",
       "      <th></th>\n",
       "      <th>null values</th>\n",
       "      <th>null_percent</th>\n",
       "    </tr>\n",
       "  </thead>\n",
       "  <tbody>\n",
       "    <tr>\n",
       "      <th>name</th>\n",
       "      <td>0</td>\n",
       "      <td>0.000000</td>\n",
       "    </tr>\n",
       "    <tr>\n",
       "      <th>price</th>\n",
       "      <td>0</td>\n",
       "      <td>0.000000</td>\n",
       "    </tr>\n",
       "    <tr>\n",
       "      <th>rating</th>\n",
       "      <td>252</td>\n",
       "      <td>25.609756</td>\n",
       "    </tr>\n",
       "    <tr>\n",
       "      <th>processor</th>\n",
       "      <td>0</td>\n",
       "      <td>0.000000</td>\n",
       "    </tr>\n",
       "    <tr>\n",
       "      <th>ram</th>\n",
       "      <td>0</td>\n",
       "      <td>0.000000</td>\n",
       "    </tr>\n",
       "    <tr>\n",
       "      <th>os</th>\n",
       "      <td>0</td>\n",
       "      <td>0.000000</td>\n",
       "    </tr>\n",
       "    <tr>\n",
       "      <th>display</th>\n",
       "      <td>0</td>\n",
       "      <td>0.000000</td>\n",
       "    </tr>\n",
       "    <tr>\n",
       "      <th>storage</th>\n",
       "      <td>206</td>\n",
       "      <td>20.934959</td>\n",
       "    </tr>\n",
       "    <tr>\n",
       "      <th>warranty</th>\n",
       "      <td>57</td>\n",
       "      <td>5.792683</td>\n",
       "    </tr>\n",
       "  </tbody>\n",
       "</table>\n",
       "</div>"
      ],
      "text/plain": [
       "           null values  null_percent\n",
       "name                 0      0.000000\n",
       "price                0      0.000000\n",
       "rating             252     25.609756\n",
       "processor            0      0.000000\n",
       "ram                  0      0.000000\n",
       "os                   0      0.000000\n",
       "display              0      0.000000\n",
       "storage            206     20.934959\n",
       "warranty            57      5.792683"
      ]
     },
     "execution_count": 9,
     "metadata": {},
     "output_type": "execute_result"
    }
   ],
   "source": [
    "pd.DataFrame({\n",
    "    \"null values\":df.isnull().sum(),\n",
    "    \"null_percent\":df.isnull().mean()*100\n",
    "    \n",
    "})"
   ]
  },
  {
   "cell_type": "code",
   "execution_count": 10,
   "id": "d60bf3c4",
   "metadata": {},
   "outputs": [
    {
     "data": {
      "image/png": "[encoded data removed]",
      "text/plain": [
       "<Figure size 432x288 with 1 Axes>"
      ]
     },
     "metadata": {
      "needs_background": "light"
     },
     "output_type": "display_data"
    }
   ],
   "source": [
    "import warnings\n",
    "warnings.filterwarnings(\"ignore\")\n",
    "sns.distplot(df['rating']);"
   ]
  },
  {
   "cell_type": "code",
   "execution_count": 11,
   "id": "8318076d",
   "metadata": {},
   "outputs": [],
   "source": [
    "df['rating'] = df['rating'].fillna(df['rating'].mean())\n",
    "df['rating'] = round(df['rating'],1)"
   ]
  },
  {
   "cell_type": "code",
   "execution_count": 12,
   "id": "7f8cc751",
   "metadata": {},
   "outputs": [
    {
     "data": {
      "image/png": "[encoded data removed]",
      "text/plain": [
       "<Figure size 432x288 with 1 Axes>"
      ]
     },
     "metadata": {
      "needs_background": "light"
     },
     "output_type": "display_data"
    }
   ],
   "source": [
    "sns.distplot(df['rating']);"
   ]
  },
  {
   "cell_type": "code",
   "execution_count": 13,
   "id": "9dd1b875",
   "metadata": {},
   "outputs": [
    {
     "name": "stdout",
     "output_type": "stream",
     "text": [
      "<class 'pandas.core.frame.DataFrame'>\n",
      "RangeIndex: 984 entries, 0 to 983\n",
      "Data columns (total 9 columns):\n",
      " #   Column     Non-Null Count  Dtype  \n",
      "---  ------     --------------  -----  \n",
      " 0   name       984 non-null    object \n",
      " 1   price      984 non-null    int32  \n",
      " 2   rating     984 non-null    float64\n",
      " 3   processor  984 non-null    object \n",
      " 4   ram        984 non-null    object \n",
      " 5   os         984 non-null    object \n",
      " 6   display    984 non-null    object \n",
      " 7   storage    778 non-null    object \n",
      " 8   warranty   927 non-null    object \n",
      "dtypes: float64(1), int32(1), object(7)\n",
      "memory usage: 65.5+ KB\n"
     ]
    }
   ],
   "source": [
    "df.info()"
   ]
  },
  {
   "cell_type": "code",
   "execution_count": 14,
   "id": "6fd6b4d6",
   "metadata": {},
   "outputs": [
    {
     "data": {
      "text/html": [
       "<div>\n",
       "<style scoped>\n",
       "    .dataframe tbody tr th:only-of-type {\n",
       "        vertical-align: middle;\n",
       "    }\n",
       "\n",
       "    .dataframe tbody tr th {\n",
       "        vertical-align: top;\n",
       "    }\n",
       "\n",
       "    .dataframe thead th {\n",
       "        text-align: right;\n",
       "    }\n",
       "</style>\n",
       "<table border=\"1\" class=\"dataframe\">\n",
       "  <thead>\n",
       "    <tr style=\"text-align: right;\">\n",
       "      <th></th>\n",
       "      <th>name</th>\n",
       "      <th>price</th>\n",
       "      <th>rating</th>\n",
       "      <th>processor</th>\n",
       "      <th>ram</th>\n",
       "      <th>os</th>\n",
       "      <th>display</th>\n",
       "      <th>storage</th>\n",
       "      <th>warranty</th>\n",
       "    </tr>\n",
       "  </thead>\n",
       "  <tbody>\n",
       "    <tr>\n",
       "      <th>0</th>\n",
       "      <td>HP Intel Core i5 11th Gen - (8 GB/512 GB SSD/W...</td>\n",
       "      <td>49990</td>\n",
       "      <td>4.3</td>\n",
       "      <td>Intel Core i5 Processor (11th Gen)</td>\n",
       "      <td>8 GB DDR4 RAM</td>\n",
       "      <td>64 bit Windows 11 Operating System</td>\n",
       "      <td>39.62 cm (15.6 Inch) Display</td>\n",
       "      <td>512 GB SSD</td>\n",
       "      <td>1 Year Onsite Warranty</td>\n",
       "    </tr>\n",
       "    <tr>\n",
       "      <th>1</th>\n",
       "      <td>HP (2023) Intel 12th Gen N305 Core i3 - (8 GB/...</td>\n",
       "      <td>41990</td>\n",
       "      <td>4.2</td>\n",
       "      <td>Intel Core i3 Processor</td>\n",
       "      <td>8 GB DDR4 RAM</td>\n",
       "      <td>64 bit Windows 11 Operating System</td>\n",
       "      <td>35.56 cm (14 Inch) Display</td>\n",
       "      <td>512 GB SSD</td>\n",
       "      <td>1 Year Onsite Warranty</td>\n",
       "    </tr>\n",
       "  </tbody>\n",
       "</table>\n",
       "</div>"
      ],
      "text/plain": [
       "                                                name  price  rating  \\\n",
       "0  HP Intel Core i5 11th Gen - (8 GB/512 GB SSD/W...  49990     4.3   \n",
       "1  HP (2023) Intel 12th Gen N305 Core i3 - (8 GB/...  41990     4.2   \n",
       "\n",
       "                            processor            ram  \\\n",
       "0  Intel Core i5 Processor (11th Gen)  8 GB DDR4 RAM   \n",
       "1             Intel Core i3 Processor  8 GB DDR4 RAM   \n",
       "\n",
       "                                   os                       display  \\\n",
       "0  64 bit Windows 11 Operating System  39.62 cm (15.6 Inch) Display   \n",
       "1  64 bit Windows 11 Operating System    35.56 cm (14 Inch) Display   \n",
       "\n",
       "      storage                warranty  \n",
       "0  512 GB SSD  1 Year Onsite Warranty  \n",
       "1  512 GB SSD  1 Year Onsite Warranty  "
      ]
     },
     "execution_count": 14,
     "metadata": {},
     "output_type": "execute_result"
    }
   ],
   "source": [
    "df.head(2)"
   ]
  },
  {
   "cell_type": "code",
   "execution_count": 15,
   "id": "e8b468a5",
   "metadata": {},
   "outputs": [],
   "source": [
    "# Cleaning processor column\n",
    "df['sys_pros'] = df['processor'].apply(lambda x: x.split('Processor')).str.get(0)"
   ]
  },
  {
   "cell_type": "code",
   "execution_count": 16,
   "id": "dbab4b20",
   "metadata": {},
   "outputs": [],
   "source": [
    "# Cleaning ram column\n",
    "import re\n",
    "df['ram'] = df['ram'].apply(lambda x: re.search(r'(\\d+)\\s*GB', x).group(1))\n",
    "df['ram'] = df['ram'].astype(int)"
   ]
  },
  {
   "cell_type": "code",
   "execution_count": 17,
   "id": "a9d45217",
   "metadata": {},
   "outputs": [],
   "source": [
    "# Cleaning Warranty\n",
    "df['warranty'] = df['warranty'].str.split().str.get(0)"
   ]
  },
  {
   "cell_type": "code",
   "execution_count": 18,
   "id": "462d4c49",
   "metadata": {},
   "outputs": [],
   "source": [
    "df['warranty'] = df['warranty'].replace(['1Year','1-year','One'],['1','1','1'])"
   ]
  },
  {
   "cell_type": "code",
   "execution_count": 19,
   "id": "c125a91c",
   "metadata": {},
   "outputs": [],
   "source": [
    "df = df.dropna(subset='warranty')"
   ]
  },
  {
   "cell_type": "code",
   "execution_count": 20,
   "id": "df5ae9f2",
   "metadata": {},
   "outputs": [],
   "source": [
    "df['warranty'] = df.warranty.astype(int)"
   ]
  },
  {
   "cell_type": "code",
   "execution_count": 21,
   "id": "870cbbbf",
   "metadata": {},
   "outputs": [
    {
     "data": {
      "text/html": [
       "<div>\n",
       "<style scoped>\n",
       "    .dataframe tbody tr th:only-of-type {\n",
       "        vertical-align: middle;\n",
       "    }\n",
       "\n",
       "    .dataframe tbody tr th {\n",
       "        vertical-align: top;\n",
       "    }\n",
       "\n",
       "    .dataframe thead th {\n",
       "        text-align: right;\n",
       "    }\n",
       "</style>\n",
       "<table border=\"1\" class=\"dataframe\">\n",
       "  <thead>\n",
       "    <tr style=\"text-align: right;\">\n",
       "      <th></th>\n",
       "      <th>name</th>\n",
       "      <th>price</th>\n",
       "      <th>rating</th>\n",
       "      <th>processor</th>\n",
       "      <th>ram</th>\n",
       "      <th>os</th>\n",
       "      <th>display</th>\n",
       "      <th>storage</th>\n",
       "      <th>warranty</th>\n",
       "      <th>sys_pros</th>\n",
       "    </tr>\n",
       "  </thead>\n",
       "  <tbody>\n",
       "    <tr>\n",
       "      <th>0</th>\n",
       "      <td>HP Intel Core i5 11th Gen - (8 GB/512 GB SSD/W...</td>\n",
       "      <td>49990</td>\n",
       "      <td>4.3</td>\n",
       "      <td>Intel Core i5 Processor (11th Gen)</td>\n",
       "      <td>8</td>\n",
       "      <td>64 bit Windows 11 Operating System</td>\n",
       "      <td>39.62 cm (15.6 Inch) Display</td>\n",
       "      <td>512 GB SSD</td>\n",
       "      <td>1</td>\n",
       "      <td>Intel Core i5</td>\n",
       "    </tr>\n",
       "    <tr>\n",
       "      <th>1</th>\n",
       "      <td>HP (2023) Intel 12th Gen N305 Core i3 - (8 GB/...</td>\n",
       "      <td>41990</td>\n",
       "      <td>4.2</td>\n",
       "      <td>Intel Core i3 Processor</td>\n",
       "      <td>8</td>\n",
       "      <td>64 bit Windows 11 Operating System</td>\n",
       "      <td>35.56 cm (14 Inch) Display</td>\n",
       "      <td>512 GB SSD</td>\n",
       "      <td>1</td>\n",
       "      <td>Intel Core i3</td>\n",
       "    </tr>\n",
       "  </tbody>\n",
       "</table>\n",
       "</div>"
      ],
      "text/plain": [
       "                                                name  price  rating  \\\n",
       "0  HP Intel Core i5 11th Gen - (8 GB/512 GB SSD/W...  49990     4.3   \n",
       "1  HP (2023) Intel 12th Gen N305 Core i3 - (8 GB/...  41990     4.2   \n",
       "\n",
       "                            processor  ram  \\\n",
       "0  Intel Core i5 Processor (11th Gen)    8   \n",
       "1             Intel Core i3 Processor    8   \n",
       "\n",
       "                                   os                       display  \\\n",
       "0  64 bit Windows 11 Operating System  39.62 cm (15.6 Inch) Display   \n",
       "1  64 bit Windows 11 Operating System    35.56 cm (14 Inch) Display   \n",
       "\n",
       "      storage  warranty        sys_pros  \n",
       "0  512 GB SSD         1  Intel Core i5   \n",
       "1  512 GB SSD         1  Intel Core i3   "
      ]
     },
     "execution_count": 21,
     "metadata": {},
     "output_type": "execute_result"
    }
   ],
   "source": [
    "df.head(2)"
   ]
  },
  {
   "cell_type": "code",
   "execution_count": 22,
   "id": "6280cbf7",
   "metadata": {},
   "outputs": [],
   "source": [
    "# Cleaning name\n",
    "df['name_clean'] = df.name.str.split().str.get(0)"
   ]
  },
  {
   "cell_type": "code",
   "execution_count": 23,
   "id": "980c56f3",
   "metadata": {},
   "outputs": [
    {
     "data": {
      "text/html": [
       "<div>\n",
       "<style scoped>\n",
       "    .dataframe tbody tr th:only-of-type {\n",
       "        vertical-align: middle;\n",
       "    }\n",
       "\n",
       "    .dataframe tbody tr th {\n",
       "        vertical-align: top;\n",
       "    }\n",
       "\n",
       "    .dataframe thead th {\n",
       "        text-align: right;\n",
       "    }\n",
       "</style>\n",
       "<table border=\"1\" class=\"dataframe\">\n",
       "  <thead>\n",
       "    <tr style=\"text-align: right;\">\n",
       "      <th></th>\n",
       "      <th>name</th>\n",
       "      <th>price</th>\n",
       "      <th>rating</th>\n",
       "      <th>processor</th>\n",
       "      <th>ram</th>\n",
       "      <th>os</th>\n",
       "      <th>display</th>\n",
       "      <th>storage</th>\n",
       "      <th>warranty</th>\n",
       "      <th>sys_pros</th>\n",
       "      <th>name_clean</th>\n",
       "    </tr>\n",
       "  </thead>\n",
       "  <tbody>\n",
       "    <tr>\n",
       "      <th>0</th>\n",
       "      <td>HP Intel Core i5 11th Gen - (8 GB/512 GB SSD/W...</td>\n",
       "      <td>49990</td>\n",
       "      <td>4.3</td>\n",
       "      <td>Intel Core i5 Processor (11th Gen)</td>\n",
       "      <td>8</td>\n",
       "      <td>64 bit Windows 11 Operating System</td>\n",
       "      <td>39.62 cm (15.6 Inch) Display</td>\n",
       "      <td>512 GB SSD</td>\n",
       "      <td>1</td>\n",
       "      <td>Intel Core i5</td>\n",
       "      <td>HP</td>\n",
       "    </tr>\n",
       "    <tr>\n",
       "      <th>1</th>\n",
       "      <td>HP (2023) Intel 12th Gen N305 Core i3 - (8 GB/...</td>\n",
       "      <td>41990</td>\n",
       "      <td>4.2</td>\n",
       "      <td>Intel Core i3 Processor</td>\n",
       "      <td>8</td>\n",
       "      <td>64 bit Windows 11 Operating System</td>\n",
       "      <td>35.56 cm (14 Inch) Display</td>\n",
       "      <td>512 GB SSD</td>\n",
       "      <td>1</td>\n",
       "      <td>Intel Core i3</td>\n",
       "      <td>HP</td>\n",
       "    </tr>\n",
       "    <tr>\n",
       "      <th>2</th>\n",
       "      <td>HP 15s (2023) Athlon Dual Core 3050U - (8 GB/5...</td>\n",
       "      <td>31990</td>\n",
       "      <td>4.0</td>\n",
       "      <td>AMD Athlon Dual Core Processor</td>\n",
       "      <td>8</td>\n",
       "      <td>Windows 11 Operating System</td>\n",
       "      <td>39.62 cm (15.6 Inch) Display</td>\n",
       "      <td>512 GB SSD</td>\n",
       "      <td>1</td>\n",
       "      <td>AMD Athlon Dual Core</td>\n",
       "      <td>HP</td>\n",
       "    </tr>\n",
       "    <tr>\n",
       "      <th>4</th>\n",
       "      <td>ASUS Vivobook 15 Core i5 11th Gen - (8 GB/512 ...</td>\n",
       "      <td>40990</td>\n",
       "      <td>4.3</td>\n",
       "      <td>Intel Core i5 Processor (11th Gen)</td>\n",
       "      <td>8</td>\n",
       "      <td>64 bit Windows 11 Operating System</td>\n",
       "      <td>39.62 cm (15.6 Inch) Display</td>\n",
       "      <td>512 GB SSD</td>\n",
       "      <td>1</td>\n",
       "      <td>Intel Core i5</td>\n",
       "      <td>ASUS</td>\n",
       "    </tr>\n",
       "    <tr>\n",
       "      <th>5</th>\n",
       "      <td>ASUS Vivobook 15 Core i3 11th Gen - (8 GB/512 ...</td>\n",
       "      <td>34990</td>\n",
       "      <td>4.3</td>\n",
       "      <td>Intel Core i3 Processor (11th Gen)</td>\n",
       "      <td>8</td>\n",
       "      <td>64 bit Windows 11 Operating System</td>\n",
       "      <td>39.62 cm (15.6 Inch) Display</td>\n",
       "      <td>512 GB SSD</td>\n",
       "      <td>1</td>\n",
       "      <td>Intel Core i3</td>\n",
       "      <td>ASUS</td>\n",
       "    </tr>\n",
       "  </tbody>\n",
       "</table>\n",
       "</div>"
      ],
      "text/plain": [
       "                                                name  price  rating  \\\n",
       "0  HP Intel Core i5 11th Gen - (8 GB/512 GB SSD/W...  49990     4.3   \n",
       "1  HP (2023) Intel 12th Gen N305 Core i3 - (8 GB/...  41990     4.2   \n",
       "2  HP 15s (2023) Athlon Dual Core 3050U - (8 GB/5...  31990     4.0   \n",
       "4  ASUS Vivobook 15 Core i5 11th Gen - (8 GB/512 ...  40990     4.3   \n",
       "5  ASUS Vivobook 15 Core i3 11th Gen - (8 GB/512 ...  34990     4.3   \n",
       "\n",
       "                            processor  ram  \\\n",
       "0  Intel Core i5 Processor (11th Gen)    8   \n",
       "1             Intel Core i3 Processor    8   \n",
       "2      AMD Athlon Dual Core Processor    8   \n",
       "4  Intel Core i5 Processor (11th Gen)    8   \n",
       "5  Intel Core i3 Processor (11th Gen)    8   \n",
       "\n",
       "                                   os                       display  \\\n",
       "0  64 bit Windows 11 Operating System  39.62 cm (15.6 Inch) Display   \n",
       "1  64 bit Windows 11 Operating System    35.56 cm (14 Inch) Display   \n",
       "2         Windows 11 Operating System  39.62 cm (15.6 Inch) Display   \n",
       "4  64 bit Windows 11 Operating System  39.62 cm (15.6 Inch) Display   \n",
       "5  64 bit Windows 11 Operating System  39.62 cm (15.6 Inch) Display   \n",
       "\n",
       "      storage  warranty               sys_pros name_clean  \n",
       "0  512 GB SSD         1         Intel Core i5          HP  \n",
       "1  512 GB SSD         1         Intel Core i3          HP  \n",
       "2  512 GB SSD         1  AMD Athlon Dual Core          HP  \n",
       "4  512 GB SSD         1         Intel Core i5        ASUS  \n",
       "5  512 GB SSD         1         Intel Core i3        ASUS  "
      ]
     },
     "execution_count": 23,
     "metadata": {},
     "output_type": "execute_result"
    }
   ],
   "source": [
    "df.head()"
   ]
  },
  {
   "cell_type": "code",
   "execution_count": 24,
   "id": "54e6da17",
   "metadata": {},
   "outputs": [],
   "source": [
    "df = df.reset_index(drop=True)"
   ]
  },
  {
   "cell_type": "code",
   "execution_count": 25,
   "id": "df2a1572",
   "metadata": {},
   "outputs": [],
   "source": [
    "# name,warranty,price,ram,rating,display,os -> clean\n",
    "# processor,storage -> unclean"
   ]
  },
  {
   "cell_type": "code",
   "execution_count": 26,
   "id": "b18402b9",
   "metadata": {},
   "outputs": [],
   "source": [
    "# Cleaning and creating clean display Column\n",
    "df['display_clean'] = df['display'].str.split().str.get(0)\n",
    "df['display_clean'] = df.display_clean.str.replace('Display:15.6\"','15.6').str.replace('Display:','38.0')\n",
    "df['display_clean'] = df['display_clean'].astype('float')\n",
    "df['display_clean'] = df['display_clean'].apply(lambda x: round(x/2.54,1) if x >= 29.46 else x  )"
   ]
  },
  {
   "cell_type": "code",
   "execution_count": 27,
   "id": "8561b70a",
   "metadata": {},
   "outputs": [],
   "source": [
    "# Dropping old display column\n",
    "df = df.drop(columns=['display'])"
   ]
  },
  {
   "cell_type": "code",
   "execution_count": 28,
   "id": "0fe3084a",
   "metadata": {},
   "outputs": [],
   "source": [
    "df = df.drop_duplicates()"
   ]
  },
  {
   "cell_type": "code",
   "execution_count": 29,
   "id": "9514cd4d",
   "metadata": {},
   "outputs": [
    {
     "data": {
      "text/plain": [
       "0"
      ]
     },
     "execution_count": 29,
     "metadata": {},
     "output_type": "execute_result"
    }
   ],
   "source": [
    "df.duplicated().sum()"
   ]
  },
  {
   "cell_type": "code",
   "execution_count": 30,
   "id": "3e7df0db",
   "metadata": {},
   "outputs": [
    {
     "data": {
      "text/plain": [
       "(506, 11)"
      ]
     },
     "execution_count": 30,
     "metadata": {},
     "output_type": "execute_result"
    }
   ],
   "source": [
    "df.shape"
   ]
  },
  {
   "cell_type": "code",
   "execution_count": 31,
   "id": "e84eb551",
   "metadata": {},
   "outputs": [
    {
     "data": {
      "text/html": [
       "<div>\n",
       "<style scoped>\n",
       "    .dataframe tbody tr th:only-of-type {\n",
       "        vertical-align: middle;\n",
       "    }\n",
       "\n",
       "    .dataframe tbody tr th {\n",
       "        vertical-align: top;\n",
       "    }\n",
       "\n",
       "    .dataframe thead th {\n",
       "        text-align: right;\n",
       "    }\n",
       "</style>\n",
       "<table border=\"1\" class=\"dataframe\">\n",
       "  <thead>\n",
       "    <tr style=\"text-align: right;\">\n",
       "      <th></th>\n",
       "      <th>name</th>\n",
       "      <th>price</th>\n",
       "      <th>rating</th>\n",
       "      <th>processor</th>\n",
       "      <th>ram</th>\n",
       "      <th>os</th>\n",
       "      <th>storage</th>\n",
       "      <th>warranty</th>\n",
       "      <th>sys_pros</th>\n",
       "      <th>name_clean</th>\n",
       "      <th>display_clean</th>\n",
       "    </tr>\n",
       "  </thead>\n",
       "  <tbody>\n",
       "    <tr>\n",
       "      <th>0</th>\n",
       "      <td>HP Intel Core i5 11th Gen - (8 GB/512 GB SSD/W...</td>\n",
       "      <td>49990</td>\n",
       "      <td>4.3</td>\n",
       "      <td>Intel Core i5 Processor (11th Gen)</td>\n",
       "      <td>8</td>\n",
       "      <td>64 bit Windows 11 Operating System</td>\n",
       "      <td>512 GB SSD</td>\n",
       "      <td>1</td>\n",
       "      <td>Intel Core i5</td>\n",
       "      <td>HP</td>\n",
       "      <td>15.6</td>\n",
       "    </tr>\n",
       "    <tr>\n",
       "      <th>1</th>\n",
       "      <td>HP (2023) Intel 12th Gen N305 Core i3 - (8 GB/...</td>\n",
       "      <td>41990</td>\n",
       "      <td>4.2</td>\n",
       "      <td>Intel Core i3 Processor</td>\n",
       "      <td>8</td>\n",
       "      <td>64 bit Windows 11 Operating System</td>\n",
       "      <td>512 GB SSD</td>\n",
       "      <td>1</td>\n",
       "      <td>Intel Core i3</td>\n",
       "      <td>HP</td>\n",
       "      <td>14.0</td>\n",
       "    </tr>\n",
       "    <tr>\n",
       "      <th>2</th>\n",
       "      <td>HP 15s (2023) Athlon Dual Core 3050U - (8 GB/5...</td>\n",
       "      <td>31990</td>\n",
       "      <td>4.0</td>\n",
       "      <td>AMD Athlon Dual Core Processor</td>\n",
       "      <td>8</td>\n",
       "      <td>Windows 11 Operating System</td>\n",
       "      <td>512 GB SSD</td>\n",
       "      <td>1</td>\n",
       "      <td>AMD Athlon Dual Core</td>\n",
       "      <td>HP</td>\n",
       "      <td>15.6</td>\n",
       "    </tr>\n",
       "    <tr>\n",
       "      <th>3</th>\n",
       "      <td>ASUS Vivobook 15 Core i5 11th Gen - (8 GB/512 ...</td>\n",
       "      <td>40990</td>\n",
       "      <td>4.3</td>\n",
       "      <td>Intel Core i5 Processor (11th Gen)</td>\n",
       "      <td>8</td>\n",
       "      <td>64 bit Windows 11 Operating System</td>\n",
       "      <td>512 GB SSD</td>\n",
       "      <td>1</td>\n",
       "      <td>Intel Core i5</td>\n",
       "      <td>ASUS</td>\n",
       "      <td>15.6</td>\n",
       "    </tr>\n",
       "    <tr>\n",
       "      <th>4</th>\n",
       "      <td>ASUS Vivobook 15 Core i3 11th Gen - (8 GB/512 ...</td>\n",
       "      <td>34990</td>\n",
       "      <td>4.3</td>\n",
       "      <td>Intel Core i3 Processor (11th Gen)</td>\n",
       "      <td>8</td>\n",
       "      <td>64 bit Windows 11 Operating System</td>\n",
       "      <td>512 GB SSD</td>\n",
       "      <td>1</td>\n",
       "      <td>Intel Core i3</td>\n",
       "      <td>ASUS</td>\n",
       "      <td>15.6</td>\n",
       "    </tr>\n",
       "  </tbody>\n",
       "</table>\n",
       "</div>"
      ],
      "text/plain": [
       "                                                name  price  rating  \\\n",
       "0  HP Intel Core i5 11th Gen - (8 GB/512 GB SSD/W...  49990     4.3   \n",
       "1  HP (2023) Intel 12th Gen N305 Core i3 - (8 GB/...  41990     4.2   \n",
       "2  HP 15s (2023) Athlon Dual Core 3050U - (8 GB/5...  31990     4.0   \n",
       "3  ASUS Vivobook 15 Core i5 11th Gen - (8 GB/512 ...  40990     4.3   \n",
       "4  ASUS Vivobook 15 Core i3 11th Gen - (8 GB/512 ...  34990     4.3   \n",
       "\n",
       "                            processor  ram  \\\n",
       "0  Intel Core i5 Processor (11th Gen)    8   \n",
       "1             Intel Core i3 Processor    8   \n",
       "2      AMD Athlon Dual Core Processor    8   \n",
       "3  Intel Core i5 Processor (11th Gen)    8   \n",
       "4  Intel Core i3 Processor (11th Gen)    8   \n",
       "\n",
       "                                   os     storage  warranty  \\\n",
       "0  64 bit Windows 11 Operating System  512 GB SSD         1   \n",
       "1  64 bit Windows 11 Operating System  512 GB SSD         1   \n",
       "2         Windows 11 Operating System  512 GB SSD         1   \n",
       "3  64 bit Windows 11 Operating System  512 GB SSD         1   \n",
       "4  64 bit Windows 11 Operating System  512 GB SSD         1   \n",
       "\n",
       "                sys_pros name_clean  display_clean  \n",
       "0         Intel Core i5          HP           15.6  \n",
       "1         Intel Core i3          HP           14.0  \n",
       "2  AMD Athlon Dual Core          HP           15.6  \n",
       "3         Intel Core i5        ASUS           15.6  \n",
       "4         Intel Core i3        ASUS           15.6  "
      ]
     },
     "execution_count": 31,
     "metadata": {},
     "output_type": "execute_result"
    }
   ],
   "source": [
    "df.head()"
   ]
  },
  {
   "cell_type": "code",
   "execution_count": 32,
   "id": "7347d236",
   "metadata": {},
   "outputs": [],
   "source": [
    "# Cleaning OS Column\n",
    "df['os_clean'] = df['os'].str.replace('64 bit Windows 11 Operating System','Windows 11 Operating System')\n",
    "df['os_clean'] = df['os_clean'].str.replace('64 bit Chrome Operating System','Chrome Operating System')\n",
    "df['os_clean'] = df['os_clean'].str.replace('64 bit DOS Operating System','DOS Operating System')\n",
    "df['os_clean'] = df['os_clean'].str.replace('64 bit Windows 10 Operating System','Windows 10 Operating System')\n",
    "df = df[df['os_clean'] != '32 bit Windows 11 Operating System']"
   ]
  },
  {
   "cell_type": "code",
   "execution_count": 33,
   "id": "3a8f0028",
   "metadata": {},
   "outputs": [],
   "source": [
    "df = df.reset_index(drop=True)"
   ]
  },
  {
   "cell_type": "code",
   "execution_count": 34,
   "id": "fad89249",
   "metadata": {},
   "outputs": [],
   "source": [
    "df['os_clean'] = df['os_clean'].apply(lambda x: x.split('Operating System')[0])"
   ]
  },
  {
   "cell_type": "code",
   "execution_count": 35,
   "id": "f21605ee",
   "metadata": {},
   "outputs": [],
   "source": [
    "df = df.drop(columns=['os'])"
   ]
  },
  {
   "cell_type": "code",
   "execution_count": 36,
   "id": "622be747",
   "metadata": {},
   "outputs": [
    {
     "data": {
      "text/html": [
       "<div>\n",
       "<style scoped>\n",
       "    .dataframe tbody tr th:only-of-type {\n",
       "        vertical-align: middle;\n",
       "    }\n",
       "\n",
       "    .dataframe tbody tr th {\n",
       "        vertical-align: top;\n",
       "    }\n",
       "\n",
       "    .dataframe thead th {\n",
       "        text-align: right;\n",
       "    }\n",
       "</style>\n",
       "<table border=\"1\" class=\"dataframe\">\n",
       "  <thead>\n",
       "    <tr style=\"text-align: right;\">\n",
       "      <th></th>\n",
       "      <th>name</th>\n",
       "      <th>price</th>\n",
       "      <th>rating</th>\n",
       "      <th>processor</th>\n",
       "      <th>ram</th>\n",
       "      <th>storage</th>\n",
       "      <th>warranty</th>\n",
       "      <th>sys_pros</th>\n",
       "      <th>name_clean</th>\n",
       "      <th>display_clean</th>\n",
       "      <th>os_clean</th>\n",
       "    </tr>\n",
       "  </thead>\n",
       "  <tbody>\n",
       "    <tr>\n",
       "      <th>0</th>\n",
       "      <td>HP Intel Core i5 11th Gen - (8 GB/512 GB SSD/W...</td>\n",
       "      <td>49990</td>\n",
       "      <td>4.3</td>\n",
       "      <td>Intel Core i5 Processor (11th Gen)</td>\n",
       "      <td>8</td>\n",
       "      <td>512 GB SSD</td>\n",
       "      <td>1</td>\n",
       "      <td>Intel Core i5</td>\n",
       "      <td>HP</td>\n",
       "      <td>15.6</td>\n",
       "      <td>Windows 11</td>\n",
       "    </tr>\n",
       "    <tr>\n",
       "      <th>1</th>\n",
       "      <td>HP (2023) Intel 12th Gen N305 Core i3 - (8 GB/...</td>\n",
       "      <td>41990</td>\n",
       "      <td>4.2</td>\n",
       "      <td>Intel Core i3 Processor</td>\n",
       "      <td>8</td>\n",
       "      <td>512 GB SSD</td>\n",
       "      <td>1</td>\n",
       "      <td>Intel Core i3</td>\n",
       "      <td>HP</td>\n",
       "      <td>14.0</td>\n",
       "      <td>Windows 11</td>\n",
       "    </tr>\n",
       "    <tr>\n",
       "      <th>2</th>\n",
       "      <td>HP 15s (2023) Athlon Dual Core 3050U - (8 GB/5...</td>\n",
       "      <td>31990</td>\n",
       "      <td>4.0</td>\n",
       "      <td>AMD Athlon Dual Core Processor</td>\n",
       "      <td>8</td>\n",
       "      <td>512 GB SSD</td>\n",
       "      <td>1</td>\n",
       "      <td>AMD Athlon Dual Core</td>\n",
       "      <td>HP</td>\n",
       "      <td>15.6</td>\n",
       "      <td>Windows 11</td>\n",
       "    </tr>\n",
       "    <tr>\n",
       "      <th>3</th>\n",
       "      <td>ASUS Vivobook 15 Core i5 11th Gen - (8 GB/512 ...</td>\n",
       "      <td>40990</td>\n",
       "      <td>4.3</td>\n",
       "      <td>Intel Core i5 Processor (11th Gen)</td>\n",
       "      <td>8</td>\n",
       "      <td>512 GB SSD</td>\n",
       "      <td>1</td>\n",
       "      <td>Intel Core i5</td>\n",
       "      <td>ASUS</td>\n",
       "      <td>15.6</td>\n",
       "      <td>Windows 11</td>\n",
       "    </tr>\n",
       "    <tr>\n",
       "      <th>4</th>\n",
       "      <td>ASUS Vivobook 15 Core i3 11th Gen - (8 GB/512 ...</td>\n",
       "      <td>34990</td>\n",
       "      <td>4.3</td>\n",
       "      <td>Intel Core i3 Processor (11th Gen)</td>\n",
       "      <td>8</td>\n",
       "      <td>512 GB SSD</td>\n",
       "      <td>1</td>\n",
       "      <td>Intel Core i3</td>\n",
       "      <td>ASUS</td>\n",
       "      <td>15.6</td>\n",
       "      <td>Windows 11</td>\n",
       "    </tr>\n",
       "  </tbody>\n",
       "</table>\n",
       "</div>"
      ],
      "text/plain": [
       "                                                name  price  rating  \\\n",
       "0  HP Intel Core i5 11th Gen - (8 GB/512 GB SSD/W...  49990     4.3   \n",
       "1  HP (2023) Intel 12th Gen N305 Core i3 - (8 GB/...  41990     4.2   \n",
       "2  HP 15s (2023) Athlon Dual Core 3050U - (8 GB/5...  31990     4.0   \n",
       "3  ASUS Vivobook 15 Core i5 11th Gen - (8 GB/512 ...  40990     4.3   \n",
       "4  ASUS Vivobook 15 Core i3 11th Gen - (8 GB/512 ...  34990     4.3   \n",
       "\n",
       "                            processor  ram     storage  warranty  \\\n",
       "0  Intel Core i5 Processor (11th Gen)    8  512 GB SSD         1   \n",
       "1             Intel Core i3 Processor    8  512 GB SSD         1   \n",
       "2      AMD Athlon Dual Core Processor    8  512 GB SSD         1   \n",
       "3  Intel Core i5 Processor (11th Gen)    8  512 GB SSD         1   \n",
       "4  Intel Core i3 Processor (11th Gen)    8  512 GB SSD         1   \n",
       "\n",
       "                sys_pros name_clean  display_clean     os_clean  \n",
       "0         Intel Core i5          HP           15.6  Windows 11   \n",
       "1         Intel Core i3          HP           14.0  Windows 11   \n",
       "2  AMD Athlon Dual Core          HP           15.6  Windows 11   \n",
       "3         Intel Core i5        ASUS           15.6  Windows 11   \n",
       "4         Intel Core i3        ASUS           15.6  Windows 11   "
      ]
     },
     "execution_count": 36,
     "metadata": {},
     "output_type": "execute_result"
    }
   ],
   "source": [
    "df.head()"
   ]
  },
  {
   "cell_type": "code",
   "execution_count": 37,
   "id": "dce56bf3",
   "metadata": {},
   "outputs": [
    {
     "data": {
      "image/png": "[encoded data removed]",
      "text/plain": [
       "<Figure size 1224x432 with 1 Axes>"
      ]
     },
     "metadata": {
      "needs_background": "light"
     },
     "output_type": "display_data"
    }
   ],
   "source": [
    "plt.figure(figsize=(17,6))\n",
    "sns.barplot(x='name_clean',y='price',data=df);"
   ]
  },
  {
   "cell_type": "code",
   "execution_count": null,
   "id": "7d33a04f",
   "metadata": {},
   "outputs": [],
   "source": []
  }
 ],
 "metadata": {
  "kernelspec": {
   "display_name": "Python 3 (ipykernel)",
   "language": "python",
   "name": "python3"
  },
  "language_info": {
   "codemirror_mode": {
    "name": "ipython",
    "version": 3
   },
   "file_extension": ".py",
   "mimetype": "text/x-python",
   "name": "python",
   "nbconvert_exporter": "python",
   "pygments_lexer": "ipython3",
   "version": "3.10.3"
  }
 },
 "nbformat": 4,
 "nbformat_minor": 5
}
